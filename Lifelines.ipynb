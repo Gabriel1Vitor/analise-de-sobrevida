{
  "nbformat": 4,
  "nbformat_minor": 0,
  "metadata": {
    "colab": {
      "name": "Lifelines",
      "provenance": []
    },
    "kernelspec": {
      "name": "python3",
      "display_name": "Python 3"
    },
    "language_info": {
      "name": "python"
    }
  },
  "cells": [
    {
      "cell_type": "code",
      "execution_count": null,
      "metadata": {
        "id": "u13C4AKQ9ztJ"
      },
      "outputs": [],
      "source": [
        "import numpy as np\n",
        "import pandas as pd\n",
        "import lifelines as lif\n",
        "\n",
        "churn=pd.read_csv(\"/content/drive/MyDrive/internet_service_churn.csv\")"
      ]
    },
    {
      "cell_type": "code",
      "source": [
        "churn[\"id\"].tail()"
      ],
      "metadata": {
        "colab": {
          "base_uri": "https://localhost:8080/"
        },
        "id": "ajS3Hu9iABVt",
        "outputId": "072b8569-5da3-4fe9-f23a-3ac2587c1814"
      },
      "execution_count": null,
      "outputs": [
        {
          "output_type": "execute_result",
          "data": {
            "text/plain": [
              "72269    1689648\n",
              "72270    1689676\n",
              "72271    1689679\n",
              "72272    1689733\n",
              "72273    1689744\n",
              "Name: id, dtype: int64"
            ]
          },
          "metadata": {},
          "execution_count": 16
        }
      ]
    },
    {
      "cell_type": "code",
      "source": [
        "churn.fillna(0,inplace=True)\n"
      ],
      "metadata": {
        "id": "oh_9nnDh0mdS"
      },
      "execution_count": null,
      "outputs": []
    },
    {
      "cell_type": "code",
      "source": [
        "df_train=churn[churn[\"id\"]>506919]\n",
        "df_test=churn[churn[\"id\"]<506919]"
      ],
      "metadata": {
        "id": "iR68REmK8vvb"
      },
      "execution_count": null,
      "outputs": []
    },
    {
      "cell_type": "code",
      "source": [
        "1689733*30/100 #porcentagem"
      ],
      "metadata": {
        "colab": {
          "base_uri": "https://localhost:8080/"
        },
        "id": "DoI-mRRa8l0h",
        "outputId": "a9044b3d-ecef-4031-cafa-a304d8c1b716"
      },
      "execution_count": null,
      "outputs": [
        {
          "output_type": "execute_result",
          "data": {
            "text/plain": [
              "506919.9"
            ]
          },
          "metadata": {},
          "execution_count": 38
        }
      ]
    },
    {
      "cell_type": "code",
      "source": [
        "df_train.tail()"
      ],
      "metadata": {
        "colab": {
          "base_uri": "https://localhost:8080/",
          "height": 270
        },
        "id": "uqZ-XLkA_3uM",
        "outputId": "edf077b1-bef8-40b0-c13d-7dbcf48d668a"
      },
      "execution_count": null,
      "outputs": [
        {
          "output_type": "execute_result",
          "data": {
            "text/plain": [
              "            id  is_tv_subscriber  is_movie_package_subscriber  \\\n",
              "72269  1689648                 1                            1   \n",
              "72270  1689676                 1                            0   \n",
              "72271  1689679                 1                            0   \n",
              "72272  1689733                 0                            0   \n",
              "72273  1689744                 1                            1   \n",
              "\n",
              "       subscription_age  bill_avg  reamining_contract  service_failure_count  \\\n",
              "72269              0.09         0                1.25                      0   \n",
              "72270              0.06         1                1.63                      0   \n",
              "72271              0.02         0                2.19                      0   \n",
              "72272              0.01         0                0.72                      0   \n",
              "72273              0.01         0                0.82                      0   \n",
              "\n",
              "       download_avg  upload_avg  download_over_limit  churn  \n",
              "72269           0.0         0.0                    0      1  \n",
              "72270           0.8         0.0                    0      1  \n",
              "72271           1.5         0.2                    0      1  \n",
              "72272           0.0         0.0                    0      1  \n",
              "72273           0.0         0.0                    0      1  "
            ],
            "text/html": [
              "\n",
              "  <div id=\"df-6aa41bdc-4824-42c8-bf7e-d71ec4768f65\">\n",
              "    <div class=\"colab-df-container\">\n",
              "      <div>\n",
              "<style scoped>\n",
              "    .dataframe tbody tr th:only-of-type {\n",
              "        vertical-align: middle;\n",
              "    }\n",
              "\n",
              "    .dataframe tbody tr th {\n",
              "        vertical-align: top;\n",
              "    }\n",
              "\n",
              "    .dataframe thead th {\n",
              "        text-align: right;\n",
              "    }\n",
              "</style>\n",
              "<table border=\"1\" class=\"dataframe\">\n",
              "  <thead>\n",
              "    <tr style=\"text-align: right;\">\n",
              "      <th></th>\n",
              "      <th>id</th>\n",
              "      <th>is_tv_subscriber</th>\n",
              "      <th>is_movie_package_subscriber</th>\n",
              "      <th>subscription_age</th>\n",
              "      <th>bill_avg</th>\n",
              "      <th>reamining_contract</th>\n",
              "      <th>service_failure_count</th>\n",
              "      <th>download_avg</th>\n",
              "      <th>upload_avg</th>\n",
              "      <th>download_over_limit</th>\n",
              "      <th>churn</th>\n",
              "    </tr>\n",
              "  </thead>\n",
              "  <tbody>\n",
              "    <tr>\n",
              "      <th>72269</th>\n",
              "      <td>1689648</td>\n",
              "      <td>1</td>\n",
              "      <td>1</td>\n",
              "      <td>0.09</td>\n",
              "      <td>0</td>\n",
              "      <td>1.25</td>\n",
              "      <td>0</td>\n",
              "      <td>0.0</td>\n",
              "      <td>0.0</td>\n",
              "      <td>0</td>\n",
              "      <td>1</td>\n",
              "    </tr>\n",
              "    <tr>\n",
              "      <th>72270</th>\n",
              "      <td>1689676</td>\n",
              "      <td>1</td>\n",
              "      <td>0</td>\n",
              "      <td>0.06</td>\n",
              "      <td>1</td>\n",
              "      <td>1.63</td>\n",
              "      <td>0</td>\n",
              "      <td>0.8</td>\n",
              "      <td>0.0</td>\n",
              "      <td>0</td>\n",
              "      <td>1</td>\n",
              "    </tr>\n",
              "    <tr>\n",
              "      <th>72271</th>\n",
              "      <td>1689679</td>\n",
              "      <td>1</td>\n",
              "      <td>0</td>\n",
              "      <td>0.02</td>\n",
              "      <td>0</td>\n",
              "      <td>2.19</td>\n",
              "      <td>0</td>\n",
              "      <td>1.5</td>\n",
              "      <td>0.2</td>\n",
              "      <td>0</td>\n",
              "      <td>1</td>\n",
              "    </tr>\n",
              "    <tr>\n",
              "      <th>72272</th>\n",
              "      <td>1689733</td>\n",
              "      <td>0</td>\n",
              "      <td>0</td>\n",
              "      <td>0.01</td>\n",
              "      <td>0</td>\n",
              "      <td>0.72</td>\n",
              "      <td>0</td>\n",
              "      <td>0.0</td>\n",
              "      <td>0.0</td>\n",
              "      <td>0</td>\n",
              "      <td>1</td>\n",
              "    </tr>\n",
              "    <tr>\n",
              "      <th>72273</th>\n",
              "      <td>1689744</td>\n",
              "      <td>1</td>\n",
              "      <td>1</td>\n",
              "      <td>0.01</td>\n",
              "      <td>0</td>\n",
              "      <td>0.82</td>\n",
              "      <td>0</td>\n",
              "      <td>0.0</td>\n",
              "      <td>0.0</td>\n",
              "      <td>0</td>\n",
              "      <td>1</td>\n",
              "    </tr>\n",
              "  </tbody>\n",
              "</table>\n",
              "</div>\n",
              "      <button class=\"colab-df-convert\" onclick=\"convertToInteractive('df-6aa41bdc-4824-42c8-bf7e-d71ec4768f65')\"\n",
              "              title=\"Convert this dataframe to an interactive table.\"\n",
              "              style=\"display:none;\">\n",
              "        \n",
              "  <svg xmlns=\"http://www.w3.org/2000/svg\" height=\"24px\"viewBox=\"0 0 24 24\"\n",
              "       width=\"24px\">\n",
              "    <path d=\"M0 0h24v24H0V0z\" fill=\"none\"/>\n",
              "    <path d=\"M18.56 5.44l.94 2.06.94-2.06 2.06-.94-2.06-.94-.94-2.06-.94 2.06-2.06.94zm-11 1L8.5 8.5l.94-2.06 2.06-.94-2.06-.94L8.5 2.5l-.94 2.06-2.06.94zm10 10l.94 2.06.94-2.06 2.06-.94-2.06-.94-.94-2.06-.94 2.06-2.06.94z\"/><path d=\"M17.41 7.96l-1.37-1.37c-.4-.4-.92-.59-1.43-.59-.52 0-1.04.2-1.43.59L10.3 9.45l-7.72 7.72c-.78.78-.78 2.05 0 2.83L4 21.41c.39.39.9.59 1.41.59.51 0 1.02-.2 1.41-.59l7.78-7.78 2.81-2.81c.8-.78.8-2.07 0-2.86zM5.41 20L4 18.59l7.72-7.72 1.47 1.35L5.41 20z\"/>\n",
              "  </svg>\n",
              "      </button>\n",
              "      \n",
              "  <style>\n",
              "    .colab-df-container {\n",
              "      display:flex;\n",
              "      flex-wrap:wrap;\n",
              "      gap: 12px;\n",
              "    }\n",
              "\n",
              "    .colab-df-convert {\n",
              "      background-color: #E8F0FE;\n",
              "      border: none;\n",
              "      border-radius: 50%;\n",
              "      cursor: pointer;\n",
              "      display: none;\n",
              "      fill: #1967D2;\n",
              "      height: 32px;\n",
              "      padding: 0 0 0 0;\n",
              "      width: 32px;\n",
              "    }\n",
              "\n",
              "    .colab-df-convert:hover {\n",
              "      background-color: #E2EBFA;\n",
              "      box-shadow: 0px 1px 2px rgba(60, 64, 67, 0.3), 0px 1px 3px 1px rgba(60, 64, 67, 0.15);\n",
              "      fill: #174EA6;\n",
              "    }\n",
              "\n",
              "    [theme=dark] .colab-df-convert {\n",
              "      background-color: #3B4455;\n",
              "      fill: #D2E3FC;\n",
              "    }\n",
              "\n",
              "    [theme=dark] .colab-df-convert:hover {\n",
              "      background-color: #434B5C;\n",
              "      box-shadow: 0px 1px 3px 1px rgba(0, 0, 0, 0.15);\n",
              "      filter: drop-shadow(0px 1px 2px rgba(0, 0, 0, 0.3));\n",
              "      fill: #FFFFFF;\n",
              "    }\n",
              "  </style>\n",
              "\n",
              "      <script>\n",
              "        const buttonEl =\n",
              "          document.querySelector('#df-6aa41bdc-4824-42c8-bf7e-d71ec4768f65 button.colab-df-convert');\n",
              "        buttonEl.style.display =\n",
              "          google.colab.kernel.accessAllowed ? 'block' : 'none';\n",
              "\n",
              "        async function convertToInteractive(key) {\n",
              "          const element = document.querySelector('#df-6aa41bdc-4824-42c8-bf7e-d71ec4768f65');\n",
              "          const dataTable =\n",
              "            await google.colab.kernel.invokeFunction('convertToInteractive',\n",
              "                                                     [key], {});\n",
              "          if (!dataTable) return;\n",
              "\n",
              "          const docLinkHtml = 'Like what you see? Visit the ' +\n",
              "            '<a target=\"_blank\" href=https://colab.research.google.com/notebooks/data_table.ipynb>data table notebook</a>'\n",
              "            + ' to learn more about interactive tables.';\n",
              "          element.innerHTML = '';\n",
              "          dataTable['output_type'] = 'display_data';\n",
              "          await google.colab.output.renderOutput(dataTable, element);\n",
              "          const docLink = document.createElement('div');\n",
              "          docLink.innerHTML = docLinkHtml;\n",
              "          element.appendChild(docLink);\n",
              "        }\n",
              "      </script>\n",
              "    </div>\n",
              "  </div>\n",
              "  "
            ]
          },
          "metadata": {},
          "execution_count": 40
        }
      ]
    },
    {
      "cell_type": "code",
      "source": [
        "cox=lif.CoxPHFitter()\n",
        "cox.fit(churn,duration_col=\"id\",event_col=\"churn\",\n",
        "        formula=\"subscription_age+is_tv_subscriber+is_movie_package_subscriber+bill_avg+reamining_contract+service_failure_count+download_avg+upload_avg+download_over_limit\")"
      ],
      "metadata": {
        "id": "A-0ZR5qEwke2",
        "colab": {
          "base_uri": "https://localhost:8080/"
        },
        "outputId": "1a74c3b7-8da4-4abb-bc05-3434d3568767"
      },
      "execution_count": null,
      "outputs": [
        {
          "output_type": "execute_result",
          "data": {
            "text/plain": [
              "<lifelines.CoxPHFitter: fitted with 72274 total observations, 32224 right-censored observations>"
            ]
          },
          "metadata": {},
          "execution_count": 4
        }
      ]
    },
    {
      "cell_type": "code",
      "source": [
        "cox.plot()"
      ],
      "metadata": {
        "colab": {
          "base_uri": "https://localhost:8080/",
          "height": 296
        },
        "id": "V8Lr0q-N3ZWh",
        "outputId": "d8a6be71-7d52-4045-a489-77ba36b023db"
      },
      "execution_count": null,
      "outputs": [
        {
          "output_type": "execute_result",
          "data": {
            "text/plain": [
              "<matplotlib.axes._subplots.AxesSubplot at 0x7f3d4d759fd0>"
            ]
          },
          "metadata": {},
          "execution_count": 5
        },
        {
          "output_type": "display_data",
          "data": {
            "text/plain": [
              "<Figure size 432x288 with 1 Axes>"
            ],
            "image/png": "[encoded data removed]"
          },
          "metadata": {
            "needs_background": "light"
          }
        }
      ]
    },
    {
      "cell_type": "code",
      "source": [
        "cox.print_summary()"
      ],
      "metadata": {
        "colab": {
          "base_uri": "https://localhost:8080/",
          "height": 734
        },
        "id": "sZ_Z8cQoBcTj",
        "outputId": "fd939c40-6b99-4042-85de-6ffe56e62951"
      },
      "execution_count": null,
      "outputs": [
        {
          "output_type": "display_data",
          "data": {
            "text/plain": [
              "<lifelines.CoxPHFitter: fitted with 72274 total observations, 32224 right-censored observations>\n",
              "             duration col = 'id'\n",
              "                event col = 'churn'\n",
              "      baseline estimation = breslow\n",
              "   number of observations = 72274\n",
              "number of events observed = 40050\n",
              "   partial log-likelihood = -385993.03\n",
              "         time fit was run = 2022-07-18 22:55:12 UTC\n",
              "\n",
              "---\n",
              "                              coef  exp(coef)   se(coef)   coef lower 95%   coef upper 95%  exp(coef) lower 95%  exp(coef) upper 95%\n",
              "covariate                                                                                                                           \n",
              "bill_avg                      0.00       1.00       0.00            -0.00             0.00                 1.00                 1.00\n",
              "download_avg                 -0.01       0.99       0.00            -0.01            -0.01                 0.99                 0.99\n",
              "download_over_limit           0.19       1.21       0.00             0.18             0.20                 1.20                 1.22\n",
              "is_movie_package_subscriber  -0.11       0.90       0.01            -0.13            -0.08                 0.88                 0.92\n",
              "is_tv_subscriber             -0.71       0.49       0.01            -0.73            -0.69                 0.48                 0.50\n",
              "reamining_contract           -2.44       0.09       0.02            -2.48            -2.40                 0.08                 0.09\n",
              "service_failure_count         0.11       1.11       0.01             0.10             0.12                 1.10                 1.12\n",
              "subscription_age              0.39       1.47       0.00             0.38             0.39                 1.46                 1.48\n",
              "upload_avg                    0.00       1.00       0.00            -0.00             0.00                 1.00                 1.00\n",
              "\n",
              "                              cmp to       z      p   -log2(p)\n",
              "covariate                                                     \n",
              "bill_avg                        0.00    1.70   0.09       3.48\n",
              "download_avg                    0.00  -69.48 <0.005        inf\n",
              "download_over_limit             0.00   46.20 <0.005        inf\n",
              "is_movie_package_subscriber     0.00   -7.96 <0.005      49.01\n",
              "is_tv_subscriber                0.00  -58.20 <0.005        inf\n",
              "reamining_contract              0.00 -122.82 <0.005        inf\n",
              "service_failure_count           0.00   19.23 <0.005     271.35\n",
              "subscription_age                0.00  114.46 <0.005        inf\n",
              "upload_avg                      0.00    0.73   0.47       1.10\n",
              "---\n",
              "Concordance = 0.86\n",
              "Partial AIC = 772004.07\n",
              "log-likelihood ratio test = 71061.33 on 9 df\n",
              "-log2(p) of ll-ratio test = inf"
            ],
            "text/html": [
              "<div>\n",
              "<style scoped>\n",
              "    .dataframe tbody tr th:only-of-type {\n",
              "        vertical-align: middle;\n",
              "    }\n",
              "\n",
              "    .dataframe tbody tr th {\n",
              "        vertical-align: top;\n",
              "    }\n",
              "\n",
              "    .dataframe thead th {\n",
              "        text-align: right;\n",
              "    }\n",
              "</style>\n",
              "<table border=\"1\" class=\"dataframe\">\n",
              "  <tbody>\n",
              "    <tr>\n",
              "      <th>model</th>\n",
              "      <td>lifelines.CoxPHFitter</td>\n",
              "    </tr>\n",
              "    <tr>\n",
              "      <th>duration col</th>\n",
              "      <td>'id'</td>\n",
              "    </tr>\n",
              "    <tr>\n",
              "      <th>event col</th>\n",
              "      <td>'churn'</td>\n",
              "    </tr>\n",
              "    <tr>\n",
              "      <th>baseline estimation</th>\n",
              "      <td>breslow</td>\n",
              "    </tr>\n",
              "    <tr>\n",
              "      <th>number of observations</th>\n",
              "      <td>72274</td>\n",
              "    </tr>\n",
              "    <tr>\n",
              "      <th>number of events observed</th>\n",
              "      <td>40050</td>\n",
              "    </tr>\n",
              "    <tr>\n",
              "      <th>partial log-likelihood</th>\n",
              "      <td>-385993.03</td>\n",
              "    </tr>\n",
              "    <tr>\n",
              "      <th>time fit was run</th>\n",
              "      <td>2022-07-18 22:55:12 UTC</td>\n",
              "    </tr>\n",
              "  </tbody>\n",
              "</table>\n",
              "</div><table border=\"1\" class=\"dataframe\">\n",
              "  <thead>\n",
              "    <tr style=\"text-align: right;\">\n",
              "      <th style=\"min-width: 12px;\"></th>\n",
              "      <th style=\"min-width: 12px;\">coef</th>\n",
              "      <th style=\"min-width: 12px;\">exp(coef)</th>\n",
              "      <th style=\"min-width: 12px;\">se(coef)</th>\n",
              "      <th style=\"min-width: 12px;\">coef lower 95%</th>\n",
              "      <th style=\"min-width: 12px;\">coef upper 95%</th>\n",
              "      <th style=\"min-width: 12px;\">exp(coef) lower 95%</th>\n",
              "      <th style=\"min-width: 12px;\">exp(coef) upper 95%</th>\n",
              "      <th style=\"min-width: 12px;\">cmp to</th>\n",
              "      <th style=\"min-width: 12px;\">z</th>\n",
              "      <th style=\"min-width: 12px;\">p</th>\n",
              "      <th style=\"min-width: 12px;\">-log2(p)</th>\n",
              "    </tr>\n",
              "  </thead>\n",
              "  <tbody>\n",
              "    <tr>\n",
              "      <th>bill_avg</th>\n",
              "      <td>0.00</td>\n",
              "      <td>1.00</td>\n",
              "      <td>0.00</td>\n",
              "      <td>-0.00</td>\n",
              "      <td>0.00</td>\n",
              "      <td>1.00</td>\n",
              "      <td>1.00</td>\n",
              "      <td>0.00</td>\n",
              "      <td>1.70</td>\n",
              "      <td>0.09</td>\n",
              "      <td>3.48</td>\n",
              "    </tr>\n",
              "    <tr>\n",
              "      <th>download_avg</th>\n",
              "      <td>-0.01</td>\n",
              "      <td>0.99</td>\n",
              "      <td>0.00</td>\n",
              "      <td>-0.01</td>\n",
              "      <td>-0.01</td>\n",
              "      <td>0.99</td>\n",
              "      <td>0.99</td>\n",
              "      <td>0.00</td>\n",
              "      <td>-69.48</td>\n",
              "      <td>&lt;0.005</td>\n",
              "      <td>inf</td>\n",
              "    </tr>\n",
              "    <tr>\n",
              "      <th>download_over_limit</th>\n",
              "      <td>0.19</td>\n",
              "      <td>1.21</td>\n",
              "      <td>0.00</td>\n",
              "      <td>0.18</td>\n",
              "      <td>0.20</td>\n",
              "      <td>1.20</td>\n",
              "      <td>1.22</td>\n",
              "      <td>0.00</td>\n",
              "      <td>46.20</td>\n",
              "      <td>&lt;0.005</td>\n",
              "      <td>inf</td>\n",
              "    </tr>\n",
              "    <tr>\n",
              "      <th>is_movie_package_subscriber</th>\n",
              "      <td>-0.11</td>\n",
              "      <td>0.90</td>\n",
              "      <td>0.01</td>\n",
              "      <td>-0.13</td>\n",
              "      <td>-0.08</td>\n",
              "      <td>0.88</td>\n",
              "      <td>0.92</td>\n",
              "      <td>0.00</td>\n",
              "      <td>-7.96</td>\n",
              "      <td>&lt;0.005</td>\n",
              "      <td>49.01</td>\n",
              "    </tr>\n",
              "    <tr>\n",
              "      <th>is_tv_subscriber</th>\n",
              "      <td>-0.71</td>\n",
              "      <td>0.49</td>\n",
              "      <td>0.01</td>\n",
              "      <td>-0.73</td>\n",
              "      <td>-0.69</td>\n",
              "      <td>0.48</td>\n",
              "      <td>0.50</td>\n",
              "      <td>0.00</td>\n",
              "      <td>-58.20</td>\n",
              "      <td>&lt;0.005</td>\n",
              "      <td>inf</td>\n",
              "    </tr>\n",
              "    <tr>\n",
              "      <th>reamining_contract</th>\n",
              "      <td>-2.44</td>\n",
              "      <td>0.09</td>\n",
              "      <td>0.02</td>\n",
              "      <td>-2.48</td>\n",
              "      <td>-2.40</td>\n",
              "      <td>0.08</td>\n",
              "      <td>0.09</td>\n",
              "      <td>0.00</td>\n",
              "      <td>-122.82</td>\n",
              "      <td>&lt;0.005</td>\n",
              "      <td>inf</td>\n",
              "    </tr>\n",
              "    <tr>\n",
              "      <th>service_failure_count</th>\n",
              "      <td>0.11</td>\n",
              "      <td>1.11</td>\n",
              "      <td>0.01</td>\n",
              "      <td>0.10</td>\n",
              "      <td>0.12</td>\n",
              "      <td>1.10</td>\n",
              "      <td>1.12</td>\n",
              "      <td>0.00</td>\n",
              "      <td>19.23</td>\n",
              "      <td>&lt;0.005</td>\n",
              "      <td>271.35</td>\n",
              "    </tr>\n",
              "    <tr>\n",
              "      <th>subscription_age</th>\n",
              "      <td>0.39</td>\n",
              "      <td>1.47</td>\n",
              "      <td>0.00</td>\n",
              "      <td>0.38</td>\n",
              "      <td>0.39</td>\n",
              "      <td>1.46</td>\n",
              "      <td>1.48</td>\n",
              "      <td>0.00</td>\n",
              "      <td>114.46</td>\n",
              "      <td>&lt;0.005</td>\n",
              "      <td>inf</td>\n",
              "    </tr>\n",
              "    <tr>\n",
              "      <th>upload_avg</th>\n",
              "      <td>0.00</td>\n",
              "      <td>1.00</td>\n",
              "      <td>0.00</td>\n",
              "      <td>-0.00</td>\n",
              "      <td>0.00</td>\n",
              "      <td>1.00</td>\n",
              "      <td>1.00</td>\n",
              "      <td>0.00</td>\n",
              "      <td>0.73</td>\n",
              "      <td>0.47</td>\n",
              "      <td>1.10</td>\n",
              "    </tr>\n",
              "  </tbody>\n",
              "</table><br><div>\n",
              "<style scoped>\n",
              "    .dataframe tbody tr th:only-of-type {\n",
              "        vertical-align: middle;\n",
              "    }\n",
              "\n",
              "    .dataframe tbody tr th {\n",
              "        vertical-align: top;\n",
              "    }\n",
              "\n",
              "    .dataframe thead th {\n",
              "        text-align: right;\n",
              "    }\n",
              "</style>\n",
              "<table border=\"1\" class=\"dataframe\">\n",
              "  <tbody>\n",
              "    <tr>\n",
              "      <th>Concordance</th>\n",
              "      <td>0.86</td>\n",
              "    </tr>\n",
              "    <tr>\n",
              "      <th>Partial AIC</th>\n",
              "      <td>772004.07</td>\n",
              "    </tr>\n",
              "    <tr>\n",
              "      <th>log-likelihood ratio test</th>\n",
              "      <td>71061.33 on 9 df</td>\n",
              "    </tr>\n",
              "    <tr>\n",
              "      <th>-log2(p) of ll-ratio test</th>\n",
              "      <td>inf</td>\n",
              "    </tr>\n",
              "  </tbody>\n",
              "</table>\n",
              "</div>"
            ],
            "text/latex": "\\begin{tabular}{lrrrrrrrrrrr}\n\\toprule\n{} &  coef &  exp(coef) &  se(coef) &  coef lower 95\\% &  coef upper 95\\% &  exp(coef) lower 95\\% &  exp(coef) upper 95\\% &  cmp to &       z &    p &  -log2(p) \\\\\ncovariate                   &       &            &           &                 &                 &                      &                      &         &         &      &           \\\\\n\\midrule\nbill\\_avg                    &  0.00 &       1.00 &      0.00 &           -0.00 &            0.00 &                 1.00 &                 1.00 &    0.00 &    1.70 & 0.09 &      3.48 \\\\\ndownload\\_avg                & -0.01 &       0.99 &      0.00 &           -0.01 &           -0.01 &                 0.99 &                 0.99 &    0.00 &  -69.48 & 0.00 &       inf \\\\\ndownload\\_over\\_limit         &  0.19 &       1.21 &      0.00 &            0.18 &            0.20 &                 1.20 &                 1.22 &    0.00 &   46.20 & 0.00 &       inf \\\\\nis\\_movie\\_package\\_subscriber & -0.11 &       0.90 &      0.01 &           -0.13 &           -0.08 &                 0.88 &                 0.92 &    0.00 &   -7.96 & 0.00 &     49.01 \\\\\nis\\_tv\\_subscriber            & -0.71 &       0.49 &      0.01 &           -0.73 &           -0.69 &                 0.48 &                 0.50 &    0.00 &  -58.20 & 0.00 &       inf \\\\\nreamining\\_contract          & -2.44 &       0.09 &      0.02 &           -2.48 &           -2.40 &                 0.08 &                 0.09 &    0.00 & -122.82 & 0.00 &       inf \\\\\nservice\\_failure\\_count       &  0.11 &       1.11 &      0.01 &            0.10 &            0.12 &                 1.10 &                 1.12 &    0.00 &   19.23 & 0.00 &    271.35 \\\\\nsubscription\\_age            &  0.39 &       1.47 &      0.00 &            0.38 &            0.39 &                 1.46 &                 1.48 &    0.00 &  114.46 & 0.00 &       inf \\\\\nupload\\_avg                  &  0.00 &       1.00 &      0.00 &           -0.00 &            0.00 &                 1.00 &                 1.00 &    0.00 &    0.73 & 0.47 &      1.10 \\\\\n\\bottomrule\n\\end{tabular}\n"
          },
          "metadata": {}
        }
      ]
    },
    {
      "cell_type": "code",
      "source": [
        "cox.plot_partial_effects_on_outcome(covariates=\"reamining_contract\",values=[1,2,4])"
      ],
      "metadata": {
        "colab": {
          "base_uri": "https://localhost:8080/",
          "height": 295
        },
        "id": "Pxat4uoI2j4l",
        "outputId": "79b61e32-b99c-4f7e-d384-f8c051d9245b"
      },
      "execution_count": null,
      "outputs": [
        {
          "output_type": "execute_result",
          "data": {
            "text/plain": [
              "<matplotlib.axes._subplots.AxesSubplot at 0x7f3d4a7f9790>"
            ]
          },
          "metadata": {},
          "execution_count": 9
        },
        {
          "output_type": "display_data",
          "data": {
            "text/plain": [
              "<Figure size 432x288 with 1 Axes>"
            ],
            "image/png": "[encoded data removed]"
          },
          "metadata": {
            "needs_background": "light"
          }
        }
      ]
    },
    {
      "cell_type": "code",
      "source": [
        ""
      ],
      "metadata": {
        "id": "iQvc_bMVhwxt"
      },
      "execution_count": null,
      "outputs": []
    }
  ]
}